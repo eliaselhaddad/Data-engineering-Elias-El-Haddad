{
 "cells": [
  {
   "attachments": {},
   "cell_type": "markdown",
   "metadata": {},
   "source": [
    "| Command | What does the command do | Some useful options |\n",
    "|---------|-------------------------|---------------------|\n",
    "| cd | Changes the current directory. | - |\n",
    "| ls | Lists the contents of a directory. | -l (long format), -a (show hidden files) |\n",
    "| touch | Creates a new empty file. | - |\n",
    "| wc | Counts the number of lines, words, and characters in files. | -l (lines), -w (words), -c (characters) |\n",
    "| grep | Searches for patterns in files. | -i (ignore case), -r (recursive), -v (invert match) |\n",
    "| mkdir | Creates a new directory. | -p (make parent directories as needed) |\n",
    "| mv | Moves or renames files and directories. | - |\n",
    "| rm | Removes files or directories. | -r (recursive), -f (force) |\n",
    "| rmdir | Removes empty directories. | - |\n",
    "| ssh | Remotely logs into a machine. | -p (port), -X (X11 forwarding) |\n",
    "| curl | Transfers data from or to a server. | -o (output to file), -I (fetch headers only) |\n",
    "| sudo | Executes a command as another user (by default, the superuser). | - |\n",
    "| apt-get | Handles packages (Debian-based systems). | install, remove, update, upgrade |\n",
    "| ps | Shows the currently running processes. | -e (all processes), -f (full format) |\n",
    "| cp | Copies files and directories. | -r (recursive) |\n",
    "| less | Views files in a scrollable manner. | - |\n",
    "| top | Displays information about the system and running processes. | - |\n",
    "| head | Outputs the first part of files. | -n (number of lines) |\n",
    "| echo | Outputs the arguments it is given. | -n (do not output the trailing newline) |\n",
    "| cat | Concatenates and displays files. | - |\n",
    "| chmod | Changes the permissions of files or directories. | +rwx (add permissions), -rwx (remove permissions) |\n",
    "| chown | Changes the owner of files or directories. | -R (recursive) |\n",
    "| kill | Sends a signal to a process. | -9 (force kill) |\n",
    "| && | Executes the command following it only if the preceding command succeeds. | - |\n",
    "| wget | Downloads files from the web. | -c (continue getting a partially-downloaded file) |\n",
    "| pwd | Prints the current working directory. | - |\n",
    "| >> | Appends the output of a command to a file. | - |\n",
    "| > | Redirects the output of a command to a file (overwrites the file). | - |\n",
    "| * | Matches any number of any characters (wildcard). | - |\n",
    "| ./ | Specifies that an executable file is in the current directory. | - |\n",
    "| diff | Compares files line by line. | -y (side by side comparison) |\n",
    "| find | Searches for files in a directory hierarchy. | -name (search by file name), -type (search by type) |"
   ]
  }
 ],
 "metadata": {
  "kernelspec": {
   "display_name": "venv",
   "language": "python",
   "name": "python3"
  },
  "language_info": {
   "codemirror_mode": {
    "name": "ipython",
    "version": 3
   },
   "file_extension": ".py",
   "mimetype": "text/x-python",
   "name": "python",
   "nbconvert_exporter": "python",
   "pygments_lexer": "ipython3",
   "version": "3.9.13"
  },
  "orig_nbformat": 4
 },
 "nbformat": 4,
 "nbformat_minor": 2
}
